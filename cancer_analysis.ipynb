{
 "cells": [
  {
   "cell_type": "code",
   "execution_count": 2,
   "metadata": {},
   "outputs": [],
   "source": [
    "import numpy as np\n",
    "import pandas as pd\n",
    "import matplotlib.pyplot as plt\n",
    "import seaborn as sns"
   ]
  },
  {
   "cell_type": "code",
   "execution_count": 4,
   "metadata": {},
   "outputs": [],
   "source": [
    "# Load the data\n",
    "df = pd.read_csv('cancer_reg.csv')"
   ]
  },
  {
   "cell_type": "code",
   "execution_count": 6,
   "metadata": {},
   "outputs": [
    {
     "name": "stdout",
     "output_type": "stream",
     "text": [
      "<class 'pandas.core.frame.DataFrame'>\n",
      "RangeIndex: 3047 entries, 0 to 3046\n",
      "Data columns (total 33 columns):\n",
      " #   Column                   Non-Null Count  Dtype  \n",
      "---  ------                   --------------  -----  \n",
      " 0   avganncount              3047 non-null   float64\n",
      " 1   avgdeathsperyear         3047 non-null   int64  \n",
      " 2   target_deathrate         3047 non-null   float64\n",
      " 3   incidencerate            3047 non-null   float64\n",
      " 4   medincome                3047 non-null   int64  \n",
      " 5   popest2015               3047 non-null   int64  \n",
      " 6   povertypercent           3047 non-null   float64\n",
      " 7   studypercap              3047 non-null   float64\n",
      " 8   binnedinc                3047 non-null   object \n",
      " 9   medianage                3047 non-null   float64\n",
      " 10  medianagemale            3047 non-null   float64\n",
      " 11  medianagefemale          3047 non-null   float64\n",
      " 12  geography                3047 non-null   object \n",
      " 13  percentmarried           3047 non-null   float64\n",
      " 14  pctnohs18_24             3047 non-null   float64\n",
      " 15  pcths18_24               3047 non-null   float64\n",
      " 16  pctsomecol18_24          762 non-null    float64\n",
      " 17  pctbachdeg18_24          3047 non-null   float64\n",
      " 18  pcths25_over             3047 non-null   float64\n",
      " 19  pctbachdeg25_over        3047 non-null   float64\n",
      " 20  pctemployed16_over       2895 non-null   float64\n",
      " 21  pctunemployed16_over     3047 non-null   float64\n",
      " 22  pctprivatecoverage       3047 non-null   float64\n",
      " 23  pctprivatecoveragealone  2438 non-null   float64\n",
      " 24  pctempprivcoverage       3047 non-null   float64\n",
      " 25  pctpubliccoverage        3047 non-null   float64\n",
      " 26  pctpubliccoveragealone   3047 non-null   float64\n",
      " 27  pctwhite                 3047 non-null   float64\n",
      " 28  pctblack                 3047 non-null   float64\n",
      " 29  pctasian                 3047 non-null   float64\n",
      " 30  pctotherrace             3047 non-null   float64\n",
      " 31  pctmarriedhouseholds     3047 non-null   float64\n",
      " 32  birthrate                3047 non-null   float64\n",
      "dtypes: float64(28), int64(3), object(2)\n",
      "memory usage: 785.7+ KB\n"
     ]
    }
   ],
   "source": [
    "df.info()"
   ]
  },
  {
   "cell_type": "markdown",
   "metadata": {},
   "source": [
    "**avganncount**     _decimal_       Mean number of reported cases of cancer diagnosed annually (a)\n",
    "\n",
    "**avgdeathsperyear**     _integer_       Mean number of reported mortalities due to cancer (a)\n",
    "\n",
    "**target_deathrate**     _decimal_       Dependent variable. Mean per capita (100,000) cancer mortalities (a)\n",
    "\n",
    "**incidencerate**     _decimal_       Mean per capita (100,000) cancer diagnoses (a)\n",
    "\n",
    "**medincome**     _integer_       Median income per county (b)\n",
    "\n",
    "**popest2015**     _integer_       Population of county (b)\n",
    "\n",
    "**povertypercent**     _decimal_       Percent of populace in poverty (b)\n",
    "\n",
    "**studypercap**     _decimal_       Per capita number of cancer-related clinical trials per county (a)\n",
    "\n",
    "**binnedinc**     _string_       Median income per capita binned by decile (b)\n",
    "\n",
    "**medianage**     _decimal_       Median age of county residents (b)\n",
    "\n",
    "**medianagemale**     _decimal_       Median age of male county residents (b)\n",
    "\n",
    "**medianagefemale**     _decimal_       Median age of female county residents (b)\n",
    "\n",
    "**geography**     _string_       County name (b)\n",
    "\n",
    "**percentmarried**     _decimal_       Percent of county residents who are married (b)\n",
    "\n",
    "**pctnohs18_24**     _decimal_       Percent of county residents ages 18-24 highest education attained: less than high school (b)\n",
    "\n",
    "**pcths18_24**     _decimal_       Percent of county residents ages 18-24 highest education attained: high school diploma (b)\n",
    "\n",
    "**pctsomecol18_24**     _decimal_       Percent of county residents ages 18-24 highest education attained: some college (b)\n",
    "\n",
    "**pctbachdeg18_24**     _decimal_       Percent of county residents ages 18-24 highest education attained: bachelor's degree (b)\n",
    "\n",
    "**pcths25_over**     _decimal_       Percent of county residents ages 25 and over highest education attained: high school diploma (b)\n",
    "\n",
    "**pctbachdeg25_over**     _decimal_       Percent of county residents ages 25 and over highest education attained: bachelor's degree (b)\n",
    "\n",
    "**pctemployed16_over**     _decimal_       Percent of county residents ages 16 and over employed (b)\n",
    "\n",
    "**pctunemployed16_over**     _decimal_       Percent of county residents ages 16 and over unemployed (b)\n",
    "\n",
    "**pctprivatecoverage**     _decimal_       Percent of county residents with private health coverage (b)\n",
    "\n",
    "**pctprivatecoveragealone**     _decimal_       Percent of county residents with private health coverage alone (no public assistance) (b)\n",
    "\n",
    "**pctempprivcoverage**     _decimal_       Percent of county residents with employee-provided private health coverage (b)\n",
    "\n",
    "**pctpubliccoverage**     _decimal_       Percent of county residents with government-provided health coverage (b)\n",
    "\n",
    "**pctpubliccoveragealone**     _decimal_       Percent of county residents with government-provided health coverage alone (b)\n",
    "\n",
    "**pctwhite**     _decimal_       Percent of county residents who identify as White (b)\n",
    "\n",
    "**pctblack**     _decimal_       Percent of county residents who identify as Black (b)\n",
    "\n",
    "**pctasian**     _decimal_       Percent of county residents who identify as Asian (b)\n",
    "\n",
    "**pctotherrace**     _decimal_       Percent of county residents who identify in a category which is not White, Black, or Asian (b)\n",
    "\n",
    "**pctmarriedhouseholds**     _decimal_       Percent of married households (b)\n",
    "\n",
    "**birthrate**     _decimal_       Number of live births relative to number of women in county (b)\n"
   ]
  },
  {
   "cell_type": "markdown",
   "metadata": {},
   "source": []
  }
 ],
 "metadata": {
  "kernelspec": {
   "display_name": "base",
   "language": "python",
   "name": "python3"
  },
  "language_info": {
   "codemirror_mode": {
    "name": "ipython",
    "version": 3
   },
   "file_extension": ".py",
   "mimetype": "text/x-python",
   "name": "python",
   "nbconvert_exporter": "python",
   "pygments_lexer": "ipython3",
   "version": "3.11.5"
  }
 },
 "nbformat": 4,
 "nbformat_minor": 2
}
